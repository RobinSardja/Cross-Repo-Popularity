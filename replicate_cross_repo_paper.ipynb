{
 "cells": [
  {
   "cell_type": "markdown",
   "metadata": {},
   "source": [
    "# Replicating Cross-Repo Paper"
   ]
  },
  {
   "cell_type": "markdown",
   "metadata": {},
   "source": [
    "Unorganized Notes\n",
    "- Main Dataset https://www.kaggle.com/datasets/johntukey/github-dataset\n",
    "- Cross-Repo Paper https://ieeexplore.ieee.org/document/8947641\n",
    "- LSTM Paper https://deeplearning.cs.cmu.edu/S23/document/readings/LSTM.pdf\n",
    "- LSTM on TensorFlow https://www.tensorflow.org/api_docs/python/tf/keras/layers/LSTM"
   ]
  },
  {
   "cell_type": "markdown",
   "metadata": {},
   "source": [
    "1. Import modules"
   ]
  },
  {
   "cell_type": "code",
   "execution_count": null,
   "metadata": {},
   "outputs": [],
   "source": [
    "from collections import Counter\n",
    "import pandas as pd"
   ]
  },
  {
   "cell_type": "markdown",
   "metadata": {},
   "source": [
    "2. Load JSON dataset"
   ]
  },
  {
   "cell_type": "code",
   "execution_count": null,
   "metadata": {},
   "outputs": [],
   "source": [
    "# paste file directory below\n",
    "path = \"dataset.json\"\n",
    "\n",
    "df = pd.read_json( path, lines = True )"
   ]
  },
  {
   "cell_type": "markdown",
   "metadata": {},
   "source": [
    "3. Add commit list to repos"
   ]
  },
  {
   "cell_type": "code",
   "execution_count": null,
   "metadata": {},
   "outputs": [],
   "source": [
    "# function to create a list of repos with their commits\n",
    "def addCommitListToRepos(df):\n",
    "\n",
    "    # main dataset only keeps username, user id, number of commits, and commit list\n",
    "    df = df[ [ \"login\", \"id\", \"commits\", \"commit_list\" ] ]\n",
    "\n",
    "    # copy of the dataset used only for iterating through each user's commit lists\n",
    "    commitLists = df.copy()\n",
    "\n",
    "    # only keep commit list\n",
    "    commitLists = commitLists[ \"commit_list\" ]\n",
    "\n",
    "    # add commits to repos\n",
    "    reposWithCommits = {}\n",
    "    for currList in commitLists:\n",
    "        for commit in currList:\n",
    "            if commit[ \"repo_id\" ] not in reposWithCommits:\n",
    "                reposWithCommits[ commit[ \"repo_id\" ] ] = []\n",
    "            reposWithCommits[ commit[ \"repo_id\" ] ].append( commit )\n",
    "\n",
    "    # return repos with commits for further use in this notebook\n",
    "    return reposWithCommits"
   ]
  },
  {
   "cell_type": "markdown",
   "metadata": {},
   "source": [
    "4. Initialize a dictionary with keys of repo IDs and values of a list of commits to that repo"
   ]
  },
  {
   "cell_type": "code",
   "execution_count": null,
   "metadata": {},
   "outputs": [],
   "source": [
    "reposWithCommits = addCommitListToRepos(df)"
   ]
  },
  {
   "cell_type": "markdown",
   "metadata": {},
   "source": [
    "4. Test for proper intialization of reposWithCommits"
   ]
  },
  {
   "cell_type": "code",
   "execution_count": null,
   "metadata": {},
   "outputs": [],
   "source": [
    "# check for expected number of repos (447111)\n",
    "print( \"Total number of repos:\", len( reposWithCommits.keys() ) )\n",
    "\n",
    "# check for expected number of commits (4544737)\n",
    "numCommits = 0\n",
    "for commitList in reposWithCommits.values():\n",
    "    numCommits = numCommits + len(commitList)\n",
    "\n",
    "print( \"Total number of commits:\", numCommits )\n",
    "\n",
    "# check known repo IDs with ample commits ( 121300003, 88377551, 131508193, 132465788, 132464776 )\n",
    "repo_id = 121300003\n",
    "\n",
    "print( reposWithCommits[repo_id] )"
   ]
  },
  {
   "cell_type": "markdown",
   "metadata": {},
   "source": [
    "5. Initialize a list of the top k most starred and forked repos"
   ]
  },
  {
   "cell_type": "code",
   "execution_count": null,
   "metadata": {},
   "outputs": [],
   "source": [
    "def topKFrequent( input, k ):\n",
    "        input = Counter(input)\n",
    "        freq = input.most_common(k)\n",
    "\n",
    "        ret = []\n",
    "        for i in freq:\n",
    "            ret.append( i[0] )\n",
    "        \n",
    "        return ret"
   ]
  }
 ],
 "metadata": {
  "kernelspec": {
   "display_name": "Python 3",
   "language": "python",
   "name": "python3"
  },
  "language_info": {
   "codemirror_mode": {
    "name": "ipython",
    "version": 3
   },
   "file_extension": ".py",
   "mimetype": "text/x-python",
   "name": "python",
   "nbconvert_exporter": "python",
   "pygments_lexer": "ipython3",
   "version": "3.10.11"
  }
 },
 "nbformat": 4,
 "nbformat_minor": 2
}
