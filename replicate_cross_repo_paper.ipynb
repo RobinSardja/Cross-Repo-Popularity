{
 "cells": [
  {
   "cell_type": "markdown",
   "metadata": {},
   "source": [
    "# Replicating Cross-Repo Paper"
   ]
  },
  {
   "cell_type": "markdown",
   "metadata": {},
   "source": [
    "Unorganized Notes\n",
    "- Main Dataset https://www.kaggle.com/datasets/johntukey/github-dataset\n",
    "- Cross-Repo Paper https://ieeexplore.ieee.org/document/8947641\n",
    "- LSTM Paper https://deeplearning.cs.cmu.edu/S23/document/readings/LSTM.pdf\n",
    "- LSTM on TensorFlow https://www.tensorflow.org/api_docs/python/tf/keras/layers/LSTM"
   ]
  },
  {
   "cell_type": "markdown",
   "metadata": {},
   "source": [
    "1. Import modules"
   ]
  },
  {
   "cell_type": "code",
   "execution_count": 1,
   "metadata": {},
   "outputs": [],
   "source": [
    "import json\n",
    "import pandas as pd\n",
    "import tensorflow as tf"
   ]
  },
  {
   "cell_type": "markdown",
   "metadata": {},
   "source": [
    "2. Load CSV dataset"
   ]
  },
  {
   "cell_type": "code",
   "execution_count": 3,
   "metadata": {},
   "outputs": [],
   "source": [
    "# paste file directory below\n",
    "path = \"dataset.json\"\n",
    "\n",
    "df = pd.read_json( path, lines = True )"
   ]
  },
  {
   "cell_type": "markdown",
   "metadata": {},
   "source": [
    "3. Add commit list to repos"
   ]
  },
  {
   "cell_type": "code",
   "execution_count": 12,
   "metadata": {},
   "outputs": [
    {
     "name": "stdout",
     "output_type": "stream",
     "text": [
      "[{'repo_id': 61075352, 'repo_owner_id': 15239692, 'commit_at': '2016-06-15 07:32:19-04:00', 'committer_id': 15239692, 'message': '2016 post season application state.', 'repo_description': '2016 post season android scouting application.', 'generate_at': '2016-06-15 07:32:19-04:00', 'author_id': 15239692, 'repo_name': 'kgodara/Northern-Force-Android-Scouting-Application'}, {'repo_id': 61075352, 'repo_owner_id': 15239692, 'commit_at': '2016-06-13 19:04:30-04:00', 'committer_id': 15239692, 'message': '2016 post season application state.', 'repo_description': '2016 post season android scouting application.', 'generate_at': '2016-06-13 19:04:30-04:00', 'author_id': 15239692, 'repo_name': 'kgodara/Northern-Force-Android-Scouting-Application'}, {'repo_id': 61075352, 'repo_owner_id': 15239692, 'commit_at': '2016-04-30 18:27:16-04:00', 'committer_id': 15239692, 'message': 'please m', 'repo_description': '2016 post season android scouting application.', 'generate_at': '2016-04-30 18:27:16-04:00', 'author_id': 15239692, 'repo_name': 'kgodara/Northern-Force-Android-Scouting-Application'}, {'repo_id': 103005909, 'repo_owner_id': 15239692, 'commit_at': '2017-09-10 17:24:20.000-04:00', 'committer_id': 15239692, 'message': 'Utilizing Shorter CSV\\n\\nKnow only following target domain from Google Search', 'repo_description': 'Crawls for U.S. CDS files', 'generate_at': '2017-09-10 17:24:20.000-04:00', 'author_id': 15239692, 'repo_name': 'kgodara/cdsCrawler'}, {'repo_id': 103005909, 'repo_owner_id': 15239692, 'commit_at': '2017-09-10 01:25:43.000-04:00', 'committer_id': 15239692, 'message': 'Google searches for domains', 'repo_description': 'Crawls for U.S. CDS files', 'generate_at': '2017-09-10 01:25:43.000-04:00', 'author_id': 15239692, 'repo_name': 'kgodara/cdsCrawler'}, {'repo_id': 103005909, 'repo_owner_id': 15239692, 'commit_at': '2017-09-10 01:31:21.000-04:00', 'committer_id': 15239692, 'message': 'Removed pdf directories', 'repo_description': 'Crawls for U.S. CDS files', 'generate_at': '2017-09-10 01:31:21.000-04:00', 'author_id': 15239692, 'repo_name': 'kgodara/cdsCrawler'}, {'repo_id': 103005909, 'repo_owner_id': 15239692, 'commit_at': '2017-09-10 01:30:48.000-04:00', 'committer_id': 15239692, 'message': 'Added .gitignore', 'repo_description': 'Crawls for U.S. CDS files', 'generate_at': '2017-09-10 01:30:48.000-04:00', 'author_id': 15239692, 'repo_name': 'kgodara/cdsCrawler'}]\n",
      "<class 'list'>\n"
     ]
    }
   ],
   "source": [
    "# class to represent commits with desired features\n",
    "class Commit:\n",
    "    def __init__(self, commit_at, generate_at, committer_id, author_id, repo_id):\n",
    "        self.commit_at = commit_at\n",
    "        self.generate_at = generate_at\n",
    "        self.committer_id = committer_id\n",
    "        self.author_id = author_id\n",
    "        self.repo_id = repo_id\n",
    "\n",
    "    def __str__(self):\n",
    "        return (f\"commit_at: {self.commit_at}\\n\"\n",
    "                f\"generate_at: {self.generate_at}\\n\"\n",
    "                f\"committer_id: {self.committer_id}\\n\"\n",
    "                f\"author_id: {self.author_id}\\n\"\n",
    "                f\"repo_id: {self.repo_id}\\n\")\n",
    "\n",
    "# function to create a list of repos with their commits\n",
    "def addCommitListToRepos(df):\n",
    "\n",
    "    # main dataset only keeps username, user id, number of commits, commit list, number of public repos, and repo list\n",
    "    df = df[ [ \"login\", \"id\", \"commits\", \"commit_list\" ] ]\n",
    "\n",
    "    # copy of the dataset used only for iterating through each user's commit lists\n",
    "    commitListStrings = df.copy()\n",
    "\n",
    "    # only keep number of commits and commit list\n",
    "    commitListStrings = commitListStrings[ [ \"commits\", \"commit_list\" ] ]\n",
    "\n",
    "    # TODO: add commit list to repos\n",
    "\n",
    "    # write repos with commits to its own csv\n",
    "    path = \"repos_with_commits.csv\"\n",
    "    reposWithCommits.to_csv( path )\n",
    "\n",
    "    # return repos with commits for further use in this notebook\n",
    "    return reposWithCommits\n",
    "\n",
    "# check if dataset already has commit lists for repos, only run if dataset does not have commit lists for repos\n",
    "path = \"repos_with_commits.json\"\n",
    "run = False\n",
    "\n",
    "try:\n",
    "    reposWithCommits = pd.read_json(path)\n",
    "except:\n",
    "    run = True\n",
    "\n",
    "if run:\n",
    "    reposWithCommits = addCommitListToRepos(df)"
   ]
  }
 ],
 "metadata": {
  "kernelspec": {
   "display_name": "Python 3",
   "language": "python",
   "name": "python3"
  },
  "language_info": {
   "codemirror_mode": {
    "name": "ipython",
    "version": 3
   },
   "file_extension": ".py",
   "mimetype": "text/x-python",
   "name": "python",
   "nbconvert_exporter": "python",
   "pygments_lexer": "ipython3",
   "version": "3.10.11"
  }
 },
 "nbformat": 4,
 "nbformat_minor": 2
}
