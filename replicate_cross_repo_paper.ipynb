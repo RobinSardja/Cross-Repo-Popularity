{
 "cells": [
  {
   "cell_type": "markdown",
   "metadata": {},
   "source": [
    "# Replicating Cross-Repo Paper"
   ]
  },
  {
   "cell_type": "markdown",
   "metadata": {},
   "source": [
    "Unorganized Notes\n",
    "- Main Dataset https://www.kaggle.com/datasets/johntukey/github-dataset\n",
    "- Cross-Repo Paper https://ieeexplore.ieee.org/document/8947641\n",
    "- LSTM Paper https://deeplearning.cs.cmu.edu/S23/document/readings/LSTM.pdf\n",
    "- LSTM on TensorFlow https://www.tensorflow.org/api_docs/python/tf/keras/layers/LSTM"
   ]
  },
  {
   "cell_type": "markdown",
   "metadata": {},
   "source": [
    "1. Import modules"
   ]
  },
  {
   "cell_type": "code",
   "execution_count": null,
   "metadata": {},
   "outputs": [],
   "source": [
    "import pandas as pd\n",
    "import tensorflow as tf"
   ]
  },
  {
   "cell_type": "markdown",
   "metadata": {},
   "source": [
    "2. Load CSV dataset"
   ]
  },
  {
   "cell_type": "code",
   "execution_count": null,
   "metadata": {},
   "outputs": [],
   "source": [
    "# paste file directory below\n",
    "path = \"dataset.csv\"\n",
    "\n",
    "df = pd.read_csv(path)"
   ]
  },
  {
   "cell_type": "markdown",
   "metadata": {},
   "source": [
    "3. Add commit list to repos"
   ]
  },
  {
   "cell_type": "code",
   "execution_count": null,
   "metadata": {},
   "outputs": [],
   "source": [
    "# class to represent commits with desired features\n",
    "class Commit:\n",
    "    def __init__(self, commit_at, generate_at, committer_id, author_id):\n",
    "        self.commit_at = commit_at\n",
    "        self.generate_at = generate_at\n",
    "        self.commiter_id = committer_id\n",
    "        self.author_id = author_id\n",
    "\n",
    "# function to create a list of repos with their commits\n",
    "def addCommitListToRepos(df):\n",
    "\n",
    "    # main dataset only keeps username, user id, number of commits, commit list, number of public repos, and repo list\n",
    "    df = df[ [ \"login\", \"id\", \"commits\", \"commit_list\" ] ]\n",
    "\n",
    "    # copy of the dataset used only for iterating through each user's commit lists\n",
    "    commitLists = df.copy()\n",
    "\n",
    "    # only keep number of commits and commit list\n",
    "    commitLists = commitLists[ [ \"commits\", \"commit_list\" ] ]\n",
    "\n",
    "    # TODO: add commit list to repos\n",
    "    reposWithCommits = commitLists\n",
    "\n",
    "    # write repos with commits to its own csv\n",
    "    path = \"repos_with_commits.csv\"\n",
    "    reposWithCommits.to_csv( path )\n",
    "\n",
    "    return reposWithCommits\n",
    "\n",
    "# check if dataset already has commit lists for repos, only run if dataset does not have commit lists for repos\n",
    "path = \"repos_with_commits.csv\"\n",
    "run = False\n",
    "\n",
    "try:\n",
    "    reposWithCommits = pd.read_csv(path)\n",
    "except:\n",
    "    run = True\n",
    "\n",
    "if run:\n",
    "    reposWithCommits = addCommitListToRepos(df)"
   ]
  }
 ],
 "metadata": {
  "kernelspec": {
   "display_name": "Python 3",
   "language": "python",
   "name": "python3"
  },
  "language_info": {
   "codemirror_mode": {
    "name": "ipython",
    "version": 3
   },
   "file_extension": ".py",
   "mimetype": "text/x-python",
   "name": "python",
   "nbconvert_exporter": "python",
   "pygments_lexer": "ipython3",
   "version": "3.10.11"
  }
 },
 "nbformat": 4,
 "nbformat_minor": 2
}
