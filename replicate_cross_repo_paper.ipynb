{
 "cells": [
  {
   "cell_type": "markdown",
   "metadata": {},
   "source": [
    "# Development Consistency of Popular Repos"
   ]
  },
  {
   "cell_type": "markdown",
   "metadata": {},
   "source": [
    "Notes\n",
    "- Main Dataset https://www.kaggle.com/datasets/johntukey/github-dataset\n",
    "- Related Paper https://www.diva-portal.org/smash/get/diva2:1114676/FULLTEXT01.pdf"
   ]
  },
  {
   "cell_type": "markdown",
   "metadata": {},
   "source": [
    "1. Import modules"
   ]
  },
  {
   "cell_type": "code",
   "execution_count": null,
   "metadata": {},
   "outputs": [],
   "source": [
    "from datetime import datetime, timedelta, timezone\n",
    "import math\n",
    "import matplotlib.pyplot as plt\n",
    "import pandas as pd\n",
    "import statistics"
   ]
  },
  {
   "cell_type": "markdown",
   "metadata": {},
   "source": [
    "2. Load JSON dataset"
   ]
  },
  {
   "cell_type": "code",
   "execution_count": null,
   "metadata": {},
   "outputs": [],
   "source": [
    "# paste file directory below\n",
    "path = \"split1.json\"\n",
    "\n",
    "df = pd.read_json( path, lines = True )"
   ]
  },
  {
   "cell_type": "markdown",
   "metadata": {},
   "source": [
    "3. Add commit list to repos"
   ]
  },
  {
   "cell_type": "code",
   "execution_count": null,
   "metadata": {},
   "outputs": [],
   "source": [
    "# function to create a list of repos with their commits\n",
    "def addCommitListToRepos(df):\n",
    "\n",
    "    # copy of the dataset used only for iterating through each user's commit lists\n",
    "    commitLists = df[ [ \"commit_list\" ] ].copy()\n",
    "\n",
    "    # only keep commit list\n",
    "    commitLists = commitLists[ \"commit_list\" ]\n",
    "\n",
    "    # add commits to repos\n",
    "    reposWithCommits = {}\n",
    "    for currList in commitLists:\n",
    "        for commit in currList:\n",
    "            if commit[ \"repo_id\" ] not in reposWithCommits:\n",
    "                reposWithCommits[ commit[ \"repo_id\" ] ] = []\n",
    "            reposWithCommits[ commit[ \"repo_id\" ] ].append( commit )\n",
    "\n",
    "    # return repos with commits for further use in this notebook\n",
    "    return reposWithCommits"
   ]
  },
  {
   "cell_type": "markdown",
   "metadata": {},
   "source": [
    "4. Add stars to repos"
   ]
  },
  {
   "cell_type": "code",
   "execution_count": null,
   "metadata": {},
   "outputs": [],
   "source": [
    "# function to create a list of repos with their stars\n",
    "def addStarsToRepos(df):\n",
    "\n",
    "    # copy of the dataset used only for iterating through each user's repo lists\n",
    "    repoLists = df[ [ \"repo_list\" ] ].copy()\n",
    "\n",
    "    # only keep repo list\n",
    "    repoLists = repoLists[ \"repo_list\" ]\n",
    "\n",
    "    # add stars to repos\n",
    "    reposWithStars = {}\n",
    "    for currList in repoLists:\n",
    "        for repo in currList:\n",
    "            if repo[ \"stargazers_count\" ] != 0:\n",
    "                reposWithStars[ repo[ \"id\" ] ] = repo[ \"stargazers_count\" ]\n",
    "\n",
    "    return reposWithStars"
   ]
  },
  {
   "cell_type": "markdown",
   "metadata": {},
   "source": [
    "5. Initialize a dictionary for repos with commit lists and repos with stars"
   ]
  },
  {
   "cell_type": "code",
   "execution_count": null,
   "metadata": {},
   "outputs": [],
   "source": [
    "reposWithCommits = addCommitListToRepos(df)\n",
    "reposWithStars = addStarsToRepos(df)"
   ]
  },
  {
   "cell_type": "markdown",
   "metadata": {},
   "source": [
    "6. Test for proper intialization of reposWithCommits"
   ]
  },
  {
   "cell_type": "code",
   "execution_count": null,
   "metadata": {},
   "outputs": [],
   "source": [
    "# Assuming reposWithCommits is a dictionary where keys are repo IDs and values are lists of commits\n",
    "\n",
    "# Calculate the total number of repos\n",
    "total_repos = len(reposWithCommits.keys())\n",
    "\n",
    "# Calculate the total number of commits\n",
    "numCommits = sum(len(commitList) for commitList in reposWithCommits.values())\n",
    "\n",
    "starred_repos = len( reposWithStars.keys() )\n",
    "\n",
    "print( \"total repos:\", total_repos )\n",
    "print( \"total number of commits:\", numCommits )\n",
    "print( \"total number of repos with >= 1 star:\", starred_repos )"
   ]
  },
  {
   "cell_type": "markdown",
   "metadata": {},
   "source": [
    "7. Calculate time between each commit for every repo"
   ]
  },
  {
   "cell_type": "code",
   "execution_count": null,
   "metadata": {},
   "outputs": [],
   "source": [
    "def timeBetweenCommits( reposWithCommits ):\n",
    "\n",
    "    reposWithStdev = {}\n",
    "\n",
    "    currTimeBetweenList = []\n",
    "    currTimeList = []\n",
    "\n",
    "    # iterate through all commits lists in reposWithCommits\n",
    "    for currID, currCommitList in reposWithCommits.items():\n",
    "        # ignore repos with only 2 or less commits\n",
    "        if len( currCommitList ) <= 2:\n",
    "            continue\n",
    "\n",
    "        # build list of commit timestamps for every repo\n",
    "        for commit in currCommitList:\n",
    "            currTimeList.append( commit[ \"commit_at\" ] )\n",
    "\n",
    "        # iterate through all commit timestamps for a repo\n",
    "        for i in range( len(currTimeList) ):\n",
    "            currTimeZone = currTimeList[i][-1]\n",
    "            currTimestamp = datetime.fromisoformat( currTimeList[i][:19] )\n",
    "\n",
    "            # convert all timestamps to UTC based on their time zone\n",
    "            if currTimeZone == 'Z':\n",
    "                 # Z represents no offset meaning commited in UTC time zone\n",
    "                 currTimestamp = currTimestamp.replace( tzinfo = timezone.utc )\n",
    "            else:\n",
    "                # get offset from the last 6 characters in the timestamp\n",
    "                currTimeZone = currTimeList[i][-6:]\n",
    "\n",
    "                # parse the offset\n",
    "                h, m = map( int, currTimeZone.split(\":\") )\n",
    "                if h < 0:\n",
    "                    m *= -1\n",
    "                currTimeZone = timedelta( hours = h, minutes = m )\n",
    "                currTimeZone = timezone( currTimeZone )\n",
    "                currTimestamp = currTimestamp.replace( tzinfo = currTimeZone ).astimezone( timezone.utc )\n",
    "\n",
    "            currTimeList[i] = currTimestamp\n",
    "\n",
    "        # sort commit timestamps in ascending order\n",
    "        currTimeList = sorted( currTimeList )\n",
    "\n",
    "        # calculate time between each commit\n",
    "        for i in range( len(currTimeList) - 1 ):\n",
    "            currTimeBetweenList.append( ( currTimeList[i + 1] - currTimeList[i] ).total_seconds() )\n",
    "\n",
    "        # calculate standard deviation and append to stdev time list\n",
    "        currStdev = statistics.stdev( currTimeBetweenList )\n",
    "\n",
    "        if currStdev != 0:\n",
    "            reposWithStdev[currID] = pd.to_timedelta( currStdev )\n",
    "\n",
    "        currTimeList = []\n",
    "        currTimeBetweenList = []\n",
    "\n",
    "    return reposWithStdev"
   ]
  },
  {
   "cell_type": "markdown",
   "metadata": {},
   "source": [
    "8. Initialize Pandas DataFrame of time between commits for every repo"
   ]
  },
  {
   "cell_type": "code",
   "execution_count": null,
   "metadata": {},
   "outputs": [],
   "source": [
    "reposWithStdev = timeBetweenCommits( reposWithCommits )"
   ]
  },
  {
   "cell_type": "markdown",
   "metadata": {},
   "source": [
    "10. Plot difference between average and median of time between commits for every repo"
   ]
  },
  {
   "cell_type": "code",
   "execution_count": null,
   "metadata": {},
   "outputs": [],
   "source": [
    "def plotTimeBetweenCommits( reposWithStdev ):\n",
    "\n",
    "    ypoints = [ td.total_seconds() for td in reposWithStdev.values() ]\n",
    "    xpoints = [ i for i in range( len(ypoints) ) ]\n",
    "\n",
    "    print( \"Total number of repos with standard deviation > 0:\", len(reposWithStdev) )\n",
    "\n",
    "    plt.title( \"Standard deviation of time between commits\" )\n",
    "    plt.xlabel( \"Meaningless x points\" )\n",
    "    plt.ylabel( \"Standard deviation of time between commits (total seconds)\" )\n",
    "\n",
    "    plt.scatter(xpoints, ypoints)\n",
    "    plt.show()\n",
    "\n",
    "plotTimeBetweenCommits( reposWithStdev )"
   ]
  },
  {
   "cell_type": "markdown",
   "metadata": {},
   "source": [
    "12. Initialize a dictionary of key stars and value difference"
   ]
  },
  {
   "cell_type": "code",
   "execution_count": null,
   "metadata": {},
   "outputs": [],
   "source": [
    "def addStarsToStdev( reposWithStars, reposWithStdev ):\n",
    "    starsWithStdev = {}\n",
    "\n",
    "    for id, stars in reposWithStars.items():\n",
    "        if id in reposWithStdev:\n",
    "            starsWithStdev[stars] = reposWithStdev[id]\n",
    "\n",
    "    return starsWithStdev"
   ]
  },
  {
   "cell_type": "code",
   "execution_count": null,
   "metadata": {},
   "outputs": [],
   "source": [
    "starsWithStdev = addStarsToStdev( reposWithStars, reposWithStdev )"
   ]
  },
  {
   "cell_type": "markdown",
   "metadata": {},
   "source": [
    "12. Plot correlation between stars and difference"
   ]
  },
  {
   "cell_type": "code",
   "execution_count": null,
   "metadata": {},
   "outputs": [],
   "source": [
    "def plotCorrelation( starsWithStdev ):\n",
    "\n",
    "    starsWithStdev = { k:v for k, v in starsWithStdev.items() if k != 0 and v.total_seconds() != 0 }\n",
    "\n",
    "    ypoints = [ math.log( td.total_seconds() ) for td in starsWithStdev.values() ]\n",
    "    xpoints = [ math.log( key ) for key in starsWithStdev.keys() ]\n",
    "\n",
    "    plt.title( \"Correlation between stars and development consistency\" )\n",
    "    plt.xlabel( \"Log( Stars for that repo )\" )\n",
    "    plt.ylabel( \"Log( Standard deviation of total seconds between commits )\" )\n",
    "\n",
    "    plt.scatter(xpoints, ypoints)\n",
    "    plt.show()\n",
    "\n",
    "plotCorrelation( starsWithStdev )"
   ]
  }
 ],
 "metadata": {
  "kernelspec": {
   "display_name": "Python 3 (ipykernel)",
   "language": "python",
   "name": "python3"
  },
  "language_info": {
   "codemirror_mode": {
    "name": "ipython",
    "version": 3
   },
   "file_extension": ".py",
   "mimetype": "text/x-python",
   "name": "python",
   "nbconvert_exporter": "python",
   "pygments_lexer": "ipython3",
   "version": "3.12.3"
  }
 },
 "nbformat": 4,
 "nbformat_minor": 2
}
