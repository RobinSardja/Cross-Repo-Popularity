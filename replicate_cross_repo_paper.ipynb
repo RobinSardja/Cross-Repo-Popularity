{
 "cells": [
  {
   "cell_type": "markdown",
   "metadata": {},
   "source": [
    "# Replicating Cross-Repo Paper"
   ]
  },
  {
   "cell_type": "markdown",
   "metadata": {},
   "source": [
    "Unorganized Notes\n",
    "- Main Dataset https://www.kaggle.com/datasets/johntukey/github-dataset\n",
    "- Cross-Repo Paper https://ieeexplore.ieee.org/document/8947641"
   ]
  },
  {
   "cell_type": "markdown",
   "metadata": {},
   "source": [
    "1. Import modules"
   ]
  },
  {
   "cell_type": "code",
   "execution_count": 1,
   "metadata": {},
   "outputs": [],
   "source": [
    "from datetime import datetime, timedelta, timezone\n",
    "import json\n",
    "import pandas as pd\n",
    "import matplotlib.pyplot as plt\n",
    "import seaborn as sns\n",
    "import statistics"
   ]
  },
  {
   "cell_type": "markdown",
   "metadata": {},
   "source": [
    "2. Load JSON dataset"
   ]
  },
  {
   "cell_type": "code",
   "execution_count": 2,
   "metadata": {},
   "outputs": [],
   "source": [
    "# paste file directory below\n",
    "path = \"dataset.json\"\n",
    "\n",
    "df = pd.read_json( path, lines = True )"
   ]
  },
  {
   "cell_type": "markdown",
   "metadata": {},
   "source": [
    "3. Add commit list to repos"
   ]
  },
  {
   "cell_type": "code",
   "execution_count": 3,
   "metadata": {},
   "outputs": [],
   "source": [
    "# function to create a list of repos with their commits\n",
    "def addCommitListToRepos(df):\n",
    "\n",
    "    # main dataset only keeps username, user id, number of commits, and commit list\n",
    "    df = df[ [ \"login\", \"id\", \"commits\", \"commit_list\" ] ]\n",
    "\n",
    "    # copy of the dataset used only for iterating through each user's commit lists\n",
    "    commitLists = df.copy()\n",
    "\n",
    "    # only keep commit list\n",
    "    commitLists = commitLists[ \"commit_list\" ]\n",
    "\n",
    "    # add commits to repos\n",
    "    reposWithCommits = {}\n",
    "    for currList in commitLists:\n",
    "        for commit in currList:\n",
    "            if commit[ \"repo_id\" ] not in reposWithCommits:\n",
    "                reposWithCommits[ commit[ \"repo_id\" ] ] = []\n",
    "            reposWithCommits[ commit[ \"repo_id\" ] ].append( commit )\n",
    "\n",
    "    # return repos with commits for further use in this notebook\n",
    "    return reposWithCommits"
   ]
  },
  {
   "cell_type": "code",
   "execution_count": 4,
   "metadata": {},
   "outputs": [],
   "source": [
    "def printReposWithCommits(reposWithCommits, max_repos=5, max_commits_per_repo=10):\n",
    "    # Create a shallow copy of the dictionary to avoid mutating the original data\n",
    "    limitedReposWithCommits = dict(list(reposWithCommits.items())[:max_repos])\n",
    "    \n",
    "    # Limit the number of commits per repository\n",
    "    for repo_id, commits in limitedReposWithCommits.items():\n",
    "        limitedReposWithCommits[repo_id] = commits[:max_commits_per_repo]\n",
    "\n",
    "    # Convert the limited dictionary to a JSON string with indentation for readability\n",
    "    reposWithCommitsJson = json.dumps(limitedReposWithCommits, indent=4)\n",
    "    print(reposWithCommitsJson)"
   ]
  },
  {
   "cell_type": "markdown",
   "metadata": {},
   "source": [
    "4. Initialize a dictionary with keys of repo IDs and values of a list of commits to that repo"
   ]
  },
  {
   "cell_type": "code",
   "execution_count": 5,
   "metadata": {},
   "outputs": [
    {
     "name": "stdout",
     "output_type": "stream",
     "text": [
      "{\n",
      "    \"98311519\": [\n",
      "        {\n",
      "            \"repo_id\": 98311519,\n",
      "            \"repo_owner_id\": 30438508,\n",
      "            \"commit_at\": \"2017-07-25 10:56:08.000-03:00\",\n",
      "            \"committer_id\": 30438508,\n",
      "            \"message\": \"Set theme jekyll-theme-merlot\",\n",
      "            \"repo_description\": null,\n",
      "            \"generate_at\": \"2017-07-25 10:56:08.000-03:00\",\n",
      "            \"author_id\": 30438508,\n",
      "            \"repo_name\": \"MelLobo/Fonte\"\n",
      "        },\n",
      "        {\n",
      "            \"repo_id\": 98311519,\n",
      "            \"repo_owner_id\": 30438508,\n",
      "            \"commit_at\": \"2017-07-25 10:52:25.000-03:00\",\n",
      "            \"committer_id\": 19864447,\n",
      "            \"message\": \"Create README.md\",\n",
      "            \"repo_description\": null,\n",
      "            \"generate_at\": \"2017-07-25 10:52:25.000-03:00\",\n",
      "            \"author_id\": 30438508,\n",
      "            \"repo_name\": \"MelLobo/Fonte\"\n",
      "        },\n",
      "        {\n",
      "            \"repo_id\": 98311519,\n",
      "            \"repo_owner_id\": 30438508,\n",
      "            \"commit_at\": \"2017-07-25 10:54:36.000-03:00\",\n",
      "            \"committer_id\": 19864447,\n",
      "            \"message\": \"Add files via upload\",\n",
      "            \"repo_description\": null,\n",
      "            \"generate_at\": \"2017-07-25 10:54:36.000-03:00\",\n",
      "            \"author_id\": 30438508,\n",
      "            \"repo_name\": \"MelLobo/Fonte\"\n",
      "        }\n",
      "    ],\n",
      "    \"134804722\": [\n",
      "        {\n",
      "            \"repo_id\": 134804722,\n",
      "            \"repo_owner_id\": 28700149,\n",
      "            \"commit_at\": \"2018-05-25 12:47:03.000+08:00\",\n",
      "            \"committer_id\": 19864447,\n",
      "            \"message\": \"Initial commit\",\n",
      "            \"repo_description\": null,\n",
      "            \"generate_at\": \"2018-05-25 12:47:03.000+08:00\",\n",
      "            \"author_id\": 28700149,\n",
      "            \"repo_name\": \"TippiRao/TippiRao\"\n",
      "        }\n",
      "    ],\n",
      "    \"134804877\": [\n",
      "        {\n",
      "            \"repo_id\": 134804877,\n",
      "            \"repo_owner_id\": 28700149,\n",
      "            \"commit_at\": \"2018-05-25 12:49:21.000+08:00\",\n",
      "            \"committer_id\": 19864447,\n",
      "            \"message\": \"Initial commit\",\n",
      "            \"repo_description\": null,\n",
      "            \"generate_at\": \"2018-05-25 12:49:21.000+08:00\",\n",
      "            \"author_id\": 28700149,\n",
      "            \"repo_name\": \"TippiRao/html5DragAndDrop\"\n",
      "        }\n",
      "    ],\n",
      "    \"134804933\": [\n",
      "        {\n",
      "            \"repo_id\": 134804933,\n",
      "            \"repo_owner_id\": 28700149,\n",
      "            \"commit_at\": \"2018-05-25 12:50:15.000+08:00\",\n",
      "            \"committer_id\": 19864447,\n",
      "            \"message\": \"Initial commit\",\n",
      "            \"repo_description\": null,\n",
      "            \"generate_at\": \"2018-05-25 12:50:15.000+08:00\",\n",
      "            \"author_id\": 28700149,\n",
      "            \"repo_name\": \"TippiRao/webpack4Demo\"\n",
      "        }\n",
      "    ],\n",
      "    \"62891737\": [\n",
      "        {\n",
      "            \"repo_id\": 62891737,\n",
      "            \"repo_owner_id\": 20357129,\n",
      "            \"commit_at\": \"2016-07-08 16:45:09+03:00\",\n",
      "            \"committer_id\": 20357129,\n",
      "            \"message\": \"Initial commit\",\n",
      "            \"repo_description\": null,\n",
      "            \"generate_at\": \"2016-07-08 16:45:09+03:00\",\n",
      "            \"author_id\": 20357129,\n",
      "            \"repo_name\": \"Hayder22/Hayder_Tahseen\"\n",
      "        }\n",
      "    ]\n",
      "}\n"
     ]
    }
   ],
   "source": [
    "reposWithCommits = addCommitListToRepos(df)\n",
    "\n",
    "# Call the function with your data, specifying how many repos and commits per repo to print\n",
    "printReposWithCommits(reposWithCommits, max_repos=5, max_commits_per_repo=10)"
   ]
  },
  {
   "cell_type": "markdown",
   "metadata": {},
   "source": [
    "5. Test for proper intialization of reposWithCommits"
   ]
  },
  {
   "cell_type": "code",
   "execution_count": null,
   "metadata": {},
   "outputs": [],
   "source": [
    "# Assuming reposWithCommits is a dictionary where keys are repo IDs and values are lists of commits\n",
    "\n",
    "# Calculate the total number of repos\n",
    "total_repos = len(reposWithCommits.keys())\n",
    "\n",
    "# Calculate the total number of commits\n",
    "numCommits = sum(len(commitList) for commitList in reposWithCommits.values())\n",
    "\n",
    "# Data for specific repo IDs\n",
    "repo_ids = [121300003, 88377551, 131508193, 132465788, 132464776]\n",
    "repos_data = {repo_id: reposWithCommits[repo_id] for repo_id in repo_ids if repo_id in reposWithCommits}\n",
    "\n",
    "# Structuring the data\n",
    "data_to_print = {\n",
    "    \"Total number of repos\": total_repos,\n",
    "    \"Total number of commits\": numCommits,\n",
    "    \"repos\": repos_data\n",
    "}\n",
    "\n",
    "# Pretty printing the data as JSON\n",
    "print(json.dumps(data_to_print, indent=4))"
   ]
  },
  {
   "cell_type": "markdown",
   "metadata": {},
   "source": [
    "6. Manually create two features:\n",
    "    * Number of commits: commit count for a repository\n",
    "    * Commit List: commit objects including commit timestamp & relevant features"
   ]
  },
  {
   "cell_type": "code",
   "execution_count": null,
   "metadata": {},
   "outputs": [],
   "source": [
    "# Flatten the structure into a list of dictionaries for DataFrame creation\n",
    "commit_details = []\n",
    "for repo_id, commits in reposWithCommits.items():\n",
    "    for commit in commits:\n",
    "        commit_details.append(commit)\n",
    "\n",
    "# Create the initial DataFrame\n",
    "df_commits = pd.DataFrame(commit_details)"
   ]
  },
  {
   "cell_type": "code",
   "execution_count": null,
   "metadata": {},
   "outputs": [],
   "source": [
    "# Group by 'repo_id' to aggregate commits\n",
    "repo_summary = df_commits.groupby('repo_id').agg({\n",
    "    'repo_owner_id': 'first',  # Assuming repo_owner_id is constant per repo\n",
    "    'repo_description': 'first',  # Assuming repo_description is constant per repo\n",
    "    'repo_name': 'first',  # Assuming repo_name is constant per repo\n",
    "    'commit_at': lambda x: list(x),\n",
    "    'committer_id': lambda x: list(x),\n",
    "    'message': lambda x: list(x),\n",
    "    'generate_at': lambda x: list(x),\n",
    "    'author_id': lambda x: list(x)\n",
    "}).reset_index()\n",
    "\n",
    "# Create the 'commit_list' column by combining columns into dictionaries\n",
    "repo_summary['commit_list'] = repo_summary.apply(lambda row: [\n",
    "    {\n",
    "        'commit_at': commit_at,\n",
    "        'committer_id': committer_id,\n",
    "        'message': message,\n",
    "        'generate_at': generate_at,\n",
    "        'author_id': author_id\n",
    "    }\n",
    "    for commit_at, committer_id, message, generate_at, author_id in zip(\n",
    "        row['commit_at'], row['committer_id'], row['message'], row['generate_at'], row['author_id']\n",
    "    )\n",
    "], axis=1)\n",
    "\n",
    "# Calculate 'commit_count' for each repository\n",
    "repo_summary['commit_count'] = repo_summary['commit_list'].apply(len)\n",
    "\n",
    "# Drop individual commit columns as they are now aggregated into 'commit_list'\n",
    "repo_summary.drop(columns=['commit_at', 'committer_id', 'message', 'generate_at', 'author_id'], inplace=True)\n"
   ]
  },
  {
   "cell_type": "code",
   "execution_count": null,
   "metadata": {
    "scrolled": true
   },
   "outputs": [],
   "source": [
    "repo_summary.head()"
   ]
  },
  {
   "cell_type": "markdown",
   "metadata": {},
   "source": [
    "7. EDA - Exploratory Data Analysis"
   ]
  },
  {
   "cell_type": "code",
   "execution_count": null,
   "metadata": {
    "scrolled": true
   },
   "outputs": [],
   "source": [
    "# Distribution of commits per user\n",
    "sns.histplot(df['commits'], kde=True)\n",
    "plt.title('Distribution of Commits per User')\n",
    "plt.xlabel('Number of Commits')\n",
    "plt.yscale('log')\n",
    "plt.ylabel('Frequency')\n",
    "plt.show()\n",
    "\n",
    "# Aggregate statistics for commits\n",
    "print(df['commits'].describe())"
   ]
  },
  {
   "cell_type": "code",
   "execution_count": null,
   "metadata": {
    "scrolled": true
   },
   "outputs": [],
   "source": [
    "# Sort the DataFrame by 'commit_count' in descending order\n",
    "repo_summary_sorted = repo_summary.sort_values(by='commit_count', ascending=False)\n",
    "\n",
    "# Display the sorted DataFrame\n",
    "print(repo_summary_sorted)"
   ]
  },
  {
   "cell_type": "markdown",
   "metadata": {},
   "source": [
    "8. Top 100 Repos by Commit Count"
   ]
  },
  {
   "cell_type": "code",
   "execution_count": null,
   "metadata": {
    "scrolled": true
   },
   "outputs": [],
   "source": [
    "# Sort the DataFrame by 'commit_count' in descending order and select the top 100\n",
    "top_100_repos = repo_summary.sort_values(by='commit_count', ascending=False).head(100)\n",
    "\n",
    "# Display the DataFrame with the top 100 repositories\n",
    "print(top_100_repos)"
   ]
  },
  {
   "cell_type": "code",
   "execution_count": null,
   "metadata": {},
   "outputs": [],
   "source": [
    "# Convert the DataFrame into a CSV file\n",
    "repo_summary.to_csv('commits.csv', index=False)"
   ]
  },
  {
   "cell_type": "code",
   "execution_count": null,
   "metadata": {},
   "outputs": [],
   "source": [
    "# Open commit-centric and repo-centric dataframes to be joined together\n",
    "df_commits = pd.read_csv('commits.csv')\n",
    "df_repos = pd.read_csv('dataset.csv')"
   ]
  },
  {
   "cell_type": "code",
   "execution_count": null,
   "metadata": {
    "scrolled": true
   },
   "outputs": [],
   "source": [
    "df_commits.head()"
   ]
  },
  {
   "cell_type": "code",
   "execution_count": null,
   "metadata": {},
   "outputs": [],
   "source": [
    "df_repos.head()"
   ]
  },
  {
   "cell_type": "code",
   "execution_count": null,
   "metadata": {
    "scrolled": false
   },
   "outputs": [],
   "source": [
    "# Perform a left join with df_repos on the left\n",
    "df_merged = pd.merge(df_repos, df_commits, left_on='repo_full_name', right_on='repo_name', how='left', suffixes=('', '_drop'))\n",
    "\n",
    "# Drop duplicate or unwanted columns post-merge, especially those with '_drop' suffix\n",
    "df_merged = df_merged[[c for c in df_merged.columns if not c.endswith('_drop')]]\n",
    "\n",
    "# For repositories without attached commits, set 'commits' to 0 and 'commit_list' to []\n",
    "# Assuming 'commits' is a column you're interested in; replace or add as necessary based on your actual data structure\n",
    "df_merged['commit_count'] = df_merged['commit_count'].fillna(0)\n",
    "df_merged['commit_list'] = df_merged.apply(lambda row: [] if pd.isnull(row['commit_count']) else row['commit_list'], axis=1)\n",
    "\n",
    "# Display the first few rows of the merged DataFrame to verify the result\n",
    "df_merged.head()"
   ]
  },
  {
   "cell_type": "code",
   "execution_count": null,
   "metadata": {},
   "outputs": [],
   "source": [
    "# Display the number of rows and columns in df_merged\n",
    "num_rows, num_columns = df_merged.shape\n",
    "print(f\"Number of rows: {num_rows}\")\n",
    "print(f\"Number of columns: {num_columns}\")"
   ]
  },
  {
   "cell_type": "markdown",
   "metadata": {},
   "source": [
    "9. Remove unneccessary columns, impute NaN values to [] or 0."
   ]
  },
  {
   "cell_type": "code",
   "execution_count": null,
   "metadata": {},
   "outputs": [],
   "source": [
    "# Correcting the drop columns syntax\n",
    "df_merged.drop(['repo_id', 'repo_owner_id', 'repo_name'], axis=1, inplace=True)\n",
    "\n",
    "# Imputing missing commit values\n",
    "df_merged['commit_count'] = df_merged['commit_count'].fillna(0)\n",
    "\n",
    "# Placeholder for 'commit_list'; assuming you need to create or update it\n",
    "df_merged['commit_list'] = df_merged.apply(lambda row: [] if row['commit_count'] == 0 else row['commit_list'], axis=1)"
   ]
  },
  {
   "cell_type": "code",
   "execution_count": null,
   "metadata": {
    "scrolled": true
   },
   "outputs": [],
   "source": [
    "# Display the first few rows of the merged DataFrame to verify the result\n",
    "print(df_merged.head())"
   ]
  },
  {
   "cell_type": "markdown",
   "metadata": {},
   "source": [
    "10. Save File to CSV (repos , commit counts , commit_list)"
   ]
  },
  {
   "cell_type": "code",
   "execution_count": null,
   "metadata": {},
   "outputs": [],
   "source": [
    "df_merged.to_csv('repos_commits.csv', index=False)"
   ]
  },
  {
   "cell_type": "markdown",
   "metadata": {},
   "source": [
    "11. Observe highly-committed repo's and their characteristics shared, if any"
   ]
  },
  {
   "cell_type": "code",
   "execution_count": null,
   "metadata": {},
   "outputs": [],
   "source": [
    "df_sorted_by_commits = df_merged.sort_values(by='commit_count', ascending=False)"
   ]
  },
  {
   "cell_type": "code",
   "execution_count": null,
   "metadata": {},
   "outputs": [],
   "source": [
    "df_sorted_by_commits.head()"
   ]
  },
  {
   "cell_type": "code",
   "execution_count": null,
   "metadata": {},
   "outputs": [],
   "source": [
    "columns_of_interest = ['repo_age', 'repo_stargazers_count', 'repo_forks_count', 'repo_open_issues', 'commit_count']\n",
    "df_sorted_by_commits[columns_of_interest].describe()"
   ]
  },
  {
   "cell_type": "markdown",
   "metadata": {},
   "source": [
    "11. Most Active Repositories by 10-day Interval"
   ]
  },
  {
   "cell_type": "code",
   "execution_count": null,
   "metadata": {},
   "outputs": [],
   "source": [
    "df_merged.head()"
   ]
  },
  {
   "cell_type": "markdown",
   "metadata": {},
   "source": [
    "12. Calculate time between each commit for every repo"
   ]
  },
  {
   "cell_type": "code",
   "execution_count": 6,
   "metadata": {},
   "outputs": [],
   "source": [
    "def timeBetweenCommits( reposWithCommits ):\n",
    "\n",
    "    timeBetweenList =[]\n",
    "    currTimeBetweenList = []\n",
    "    currTimeList = []\n",
    "    avgTimeList = []\n",
    "    medianTimeList = []\n",
    "\n",
    "    # iterate through all commits lists in reposWithCommits\n",
    "    for currCommitList in reposWithCommits.values():\n",
    "        # ignore repos with only 1 or 0 commits\n",
    "        if len( currCommitList ) <= 1:\n",
    "            avgTimeList.append( timedelta() )\n",
    "            medianTimeList.append( timedelta() )\n",
    "            timeBetweenList.append( [] )\n",
    "            continue\n",
    "\n",
    "        # build list of commit timestamps for every repo\n",
    "        for commit in currCommitList:\n",
    "            currTimeList.append( commit[ \"commit_at\" ] )\n",
    "\n",
    "        # iterate through all commit timestamps for a repo\n",
    "        for i in range( len(currTimeList) ):\n",
    "            currTimeZone = currTimeList[i][-1]\n",
    "            currTimestamp = datetime.fromisoformat( currTimeList[i][:19] )\n",
    "\n",
    "            # convert all timestamps to UTC based on their time zone\n",
    "            if currTimeZone == 'Z':\n",
    "                 # Z represents no offset meaning commited in UTC time zone\n",
    "                 currTimestamp = currTimestamp.replace( tzinfo = timezone.utc )\n",
    "            else:\n",
    "                # get offset from the last 6 characters in the timestamp\n",
    "                currTimeZone = currTimeList[i][-6:]\n",
    "\n",
    "                # parse the offset\n",
    "                h, m = map( int, currTimeZone.split(\":\") )\n",
    "                if h < 0:\n",
    "                    m *= -1\n",
    "                currTimeZone = timedelta( hours = h, minutes = m )\n",
    "                currTimeZone = timezone( currTimeZone )\n",
    "                currTimestamp = currTimestamp.replace( tzinfo = currTimeZone ).astimezone( timezone.utc )\n",
    "\n",
    "            currTimeList[i] = currTimestamp\n",
    "\n",
    "        # sort commit timestamps in ascending order\n",
    "        currTimeList = sorted( currTimeList )\n",
    "\n",
    "        # calculate time between each commit\n",
    "        currAvgTime = timedelta()\n",
    "        for i in range( len(currTimeList) - 1 ):\n",
    "            currTimeBetweenList.append( currTimeList[i + 1] - currTimeList[i] )\n",
    "            currAvgTime = currAvgTime + ( currTimeList[i + 1] - currTimeList[i] )\n",
    "\n",
    "        # calculate average time and append to average time list\n",
    "        currAvgTime = currAvgTime / ( len( currCommitList ) - 1 )\n",
    "        medianTimeList.append( statistics.median(currTimeBetweenList) )\n",
    "        avgTimeList.append( currAvgTime )\n",
    "        timeBetweenList.append( currTimeBetweenList )\n",
    "        currTimeList = []\n",
    "        currTimeBetweenList = []\n",
    "\n",
    "    # represent reposWithCommits as Pandas DataFrame\n",
    "    data = { \"repo_id\": reposWithCommits.keys(),\n",
    "             \"avg_time_between_commits\": avgTimeList,\n",
    "             \"median_time_between_commits\": medianTimeList }\n",
    "    data = pd.DataFrame.from_dict( data )\n",
    "\n",
    "    return data"
   ]
  },
  {
   "cell_type": "markdown",
   "metadata": {},
   "source": [
    "13. Initialize Pandas DataFrame of time between commits for every repo"
   ]
  },
  {
   "cell_type": "code",
   "execution_count": 7,
   "metadata": {},
   "outputs": [],
   "source": [
    "repoTimeBetweenCommits = timeBetweenCommits( reposWithCommits )"
   ]
  },
  {
   "cell_type": "markdown",
   "metadata": {},
   "source": [
    "14. Test for proper initialization of avgTimeBetweenCommits"
   ]
  },
  {
   "cell_type": "code",
   "execution_count": 8,
   "metadata": {},
   "outputs": [
    {
     "name": "stdout",
     "output_type": "stream",
     "text": [
      "          repo_id avg_time_between_commits median_time_between_commits\n",
      "0        98311519   0 days 00:01:51.500000      0 days 00:01:51.500000\n",
      "1       134804722          0 days 00:00:00             0 days 00:00:00\n",
      "2       134804877          0 days 00:00:00             0 days 00:00:00\n",
      "3       134804933          0 days 00:00:00             0 days 00:00:00\n",
      "4        62891737          0 days 00:00:00             0 days 00:00:00\n",
      "...           ...                      ...                         ...\n",
      "447106   29204775   3 days 07:44:25.241379             0 days 00:25:41\n",
      "447107   60782700   0 days 00:23:15.555556             0 days 00:08:38\n",
      "447108   55134604   1 days 13:25:59.135135             0 days 00:16:37\n",
      "447109   96882560   9 days 07:47:14.730769             0 days 00:48:55\n",
      "447110   74912660   1 days 11:31:33.979592             0 days 00:35:57\n",
      "\n",
      "[447111 rows x 3 columns]\n"
     ]
    }
   ],
   "source": [
    "# Output format of locally stored dataset\n",
    "#           repo_id avg_time_between_commits median_time_between_commits\n",
    "# 0        98311519   0 days 00:01:51.500000      0 days 00:01:51.500000\n",
    "# 1       134804722          0 days 00:00:00             0 days 00:00:00\n",
    "# 2       134804877          0 days 00:00:00             0 days 00:00:00\n",
    "# 3       134804933          0 days 00:00:00             0 days 00:00:00\n",
    "# 4        62891737          0 days 00:00:00             0 days 00:00:00\n",
    "# ...           ...                      ...                         ...\n",
    "# 447106   29204775   3 days 07:44:25.241379             0 days 00:25:41\n",
    "# 447107   60782700   0 days 00:23:15.555556             0 days 00:08:38\n",
    "# 447108   55134604   1 days 13:25:59.135135             0 days 00:16:37\n",
    "# 447109   96882560   9 days 07:47:14.730769             0 days 00:48:55\n",
    "# 447110   74912660   1 days 11:31:33.979592             0 days 00:35:57\n",
    "\n",
    "# [447111 rows x 2 columns]\n",
    "\n",
    "print( repoTimeBetweenCommits )"
   ]
  },
  {
   "cell_type": "markdown",
   "metadata": {},
   "source": [
    "15. Plot difference between average and median of time between commits for every repo"
   ]
  },
  {
   "cell_type": "code",
   "execution_count": 40,
   "metadata": {},
   "outputs": [
    {
     "data": {
      "image/png": "[encoded data removed]",
      "text/plain": [
       "<Figure size 640x480 with 1 Axes>"
      ]
     },
     "metadata": {},
     "output_type": "display_data"
    }
   ],
   "source": [
    "def plotTimeBetweenCommits( repoTimeBetweenCommits ):\n",
    "\n",
    "    ypoints = [ td.days for td in ( repoTimeBetweenCommits[\"avg_time_between_commits\"] - repoTimeBetweenCommits[\"median_time_between_commits\"] ) if td.days != 0 ]\n",
    "    xpoints = [ i for i in range( len(ypoints) ) ]\n",
    "\n",
    "    ypoints = sorted( ypoints )\n",
    "\n",
    "    plt.xlabel( \"Index of repo in DataFrame\" )\n",
    "    plt.ylabel( \"Average minus median time between commits (days)\" )\n",
    "\n",
    "    plt.plot(xpoints, ypoints)\n",
    "    plt.show()\n",
    "\n",
    "plotTimeBetweenCommits( repoTimeBetweenCommits )"
   ]
  }
 ],
 "metadata": {
  "kernelspec": {
   "display_name": "Python 3 (ipykernel)",
   "language": "python",
   "name": "python3"
  },
  "language_info": {
   "codemirror_mode": {
    "name": "ipython",
    "version": 3
   },
   "file_extension": ".py",
   "mimetype": "text/x-python",
   "name": "python",
   "nbconvert_exporter": "python",
   "pygments_lexer": "ipython3",
   "version": "3.12.2"
  }
 },
 "nbformat": 4,
 "nbformat_minor": 2
}
