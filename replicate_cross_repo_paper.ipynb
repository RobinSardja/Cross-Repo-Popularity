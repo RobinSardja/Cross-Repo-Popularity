{
 "cells": [
  {
   "cell_type": "markdown",
   "metadata": {},
   "source": [
    "# Replicating Cross-Repo Paper"
   ]
  },
  {
   "cell_type": "markdown",
   "metadata": {},
   "source": [
    "Unorganized Notes\n",
    "- Main Dataset https://www.kaggle.com/datasets/johntukey/github-dataset\n",
    "- Cross-Repo Paper https://ieeexplore.ieee.org/document/8947641\n",
    "- LSTM Paper https://deeplearning.cs.cmu.edu/S23/document/readings/LSTM.pdf\n",
    "- LSTM on TensorFlow https://www.tensorflow.org/api_docs/python/tf/keras/layers/LSTM"
   ]
  },
  {
   "cell_type": "markdown",
   "metadata": {},
   "source": [
    "1. Import modules"
   ]
  },
  {
   "cell_type": "code",
   "execution_count": 1,
   "metadata": {},
   "outputs": [],
   "source": [
    "import pandas as pd\n",
    "import tensorflow as tf"
   ]
  },
  {
   "cell_type": "markdown",
   "metadata": {},
   "source": [
    "2. Load CSV dataset"
   ]
  },
  {
   "cell_type": "code",
   "execution_count": 2,
   "metadata": {},
   "outputs": [],
   "source": [
    "# paste file directory below\n",
    "path = \"repos_with_commit_lists.csv\"\n",
    "\n",
    "df = pd.read_csv(path)"
   ]
  },
  {
   "cell_type": "markdown",
   "metadata": {},
   "source": [
    "3. Add commit list to repos"
   ]
  },
  {
   "cell_type": "code",
   "execution_count": null,
   "metadata": {},
   "outputs": [],
   "source": [
    "# main dataset only keeps username, user id, number of commits, commit list, number of public repos, and repo list\n",
    "df = df[ [ \"login\", \"id\", \"commits\", \"commit_list\", \"public_repos\", \"repo_list\" ] ]\n",
    "\n",
    "# copy of the dataset used only for iterating through each user's commit lists\n",
    "commitLists = df.copy()\n",
    "\n",
    "# only keep user id, number of commits, and commit list\n",
    "commitLists = commitLists[ [ \"id\", \"commits\", \"commit_list\" ] ]\n",
    "\n",
    "# remove all entries that have 0 commits\n",
    "commitLists = commitLists.drop( commitLists[ commitLists.commits == 0 ].index )"
   ]
  }
 ],
 "metadata": {
  "kernelspec": {
   "display_name": "Python 3",
   "language": "python",
   "name": "python3"
  },
  "language_info": {
   "codemirror_mode": {
    "name": "ipython",
    "version": 3
   },
   "file_extension": ".py",
   "mimetype": "text/x-python",
   "name": "python",
   "nbconvert_exporter": "python",
   "pygments_lexer": "ipython3",
   "version": "3.10.11"
  }
 },
 "nbformat": 4,
 "nbformat_minor": 2
}
