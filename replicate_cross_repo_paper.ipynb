{
 "cells": [
  {
   "cell_type": "markdown",
   "metadata": {},
   "source": [
    "# Development Consistency of Popular Repos"
   ]
  },
  {
   "cell_type": "markdown",
   "metadata": {},
   "source": [
    "Notes\n",
    "- Main Dataset https://www.kaggle.com/datasets/johntukey/github-dataset\n",
    "- Related Paper https://www.diva-portal.org/smash/get/diva2:1114676/FULLTEXT01.pdf"
   ]
  },
  {
   "cell_type": "markdown",
   "metadata": {},
   "source": [
    "1. Import modules"
   ]
  },
  {
   "cell_type": "code",
   "execution_count": null,
   "metadata": {},
   "outputs": [],
   "source": [
    "from datetime import datetime, timedelta, timezone\n",
    "import json\n",
    "import pandas as pd\n",
    "import matplotlib.pyplot as plt\n",
    "import statistics"
   ]
  },
  {
   "cell_type": "markdown",
   "metadata": {},
   "source": [
    "2. Load JSON dataset"
   ]
  },
  {
   "cell_type": "code",
   "execution_count": null,
   "metadata": {},
   "outputs": [],
   "source": [
    "# paste file directory below\n",
    "path = \"dataset.json\"\n",
    "\n",
    "df = pd.read_json( path, lines = True )"
   ]
  },
  {
   "cell_type": "markdown",
   "metadata": {},
   "source": [
    "3. Add commit list to repos"
   ]
  },
  {
   "cell_type": "code",
   "execution_count": null,
   "metadata": {},
   "outputs": [],
   "source": [
    "# function to create a list of repos with their commits\n",
    "def addCommitListToRepos(df):\n",
    "\n",
    "    # main dataset only keeps username, user id, number of commits, and commit list\n",
    "    df = df[ [ \"login\", \"id\", \"commits\", \"commit_list\" ] ]\n",
    "\n",
    "    # copy of the dataset used only for iterating through each user's commit lists\n",
    "    commitLists = df.copy()\n",
    "\n",
    "    # only keep commit list\n",
    "    commitLists = commitLists[ \"commit_list\" ]\n",
    "\n",
    "    # add commits to repos\n",
    "    reposWithCommits = {}\n",
    "    for currList in commitLists:\n",
    "        for commit in currList:\n",
    "            if commit[ \"repo_id\" ] not in reposWithCommits:\n",
    "                reposWithCommits[ commit[ \"repo_id\" ] ] = []\n",
    "            reposWithCommits[ commit[ \"repo_id\" ] ].append( commit )\n",
    "\n",
    "    # return repos with commits for further use in this notebook\n",
    "    return reposWithCommits"
   ]
  },
  {
   "cell_type": "code",
   "execution_count": null,
   "metadata": {},
   "outputs": [],
   "source": [
    "def printReposWithCommits(reposWithCommits, max_repos=5, max_commits_per_repo=10):\n",
    "    # Create a shallow copy of the dictionary to avoid mutating the original data\n",
    "    limitedReposWithCommits = dict(list(reposWithCommits.items())[:max_repos])\n",
    "    \n",
    "    # Limit the number of commits per repository\n",
    "    for repo_id, commits in limitedReposWithCommits.items():\n",
    "        limitedReposWithCommits[repo_id] = commits[:max_commits_per_repo]\n",
    "\n",
    "    # Convert the limited dictionary to a JSON string with indentation for readability\n",
    "    reposWithCommitsJson = json.dumps(limitedReposWithCommits, indent=4)\n",
    "    print(reposWithCommitsJson)"
   ]
  },
  {
   "cell_type": "markdown",
   "metadata": {},
   "source": [
    "4. Initialize a dictionary with keys of repo IDs and values of a list of commits to that repo"
   ]
  },
  {
   "cell_type": "code",
   "execution_count": null,
   "metadata": {},
   "outputs": [],
   "source": [
    "reposWithCommits = addCommitListToRepos(df)\n",
    "\n",
    "# Call the function with your data, specifying how many repos and commits per repo to print\n",
    "printReposWithCommits(reposWithCommits, max_repos=5, max_commits_per_repo=10)"
   ]
  },
  {
   "cell_type": "markdown",
   "metadata": {},
   "source": [
    "5. Test for proper intialization of reposWithCommits"
   ]
  },
  {
   "cell_type": "code",
   "execution_count": null,
   "metadata": {},
   "outputs": [],
   "source": [
    "# Assuming reposWithCommits is a dictionary where keys are repo IDs and values are lists of commits\n",
    "\n",
    "# Calculate the total number of repos\n",
    "total_repos = len(reposWithCommits.keys())\n",
    "\n",
    "# Calculate the total number of commits\n",
    "numCommits = sum(len(commitList) for commitList in reposWithCommits.values())\n",
    "\n",
    "# Data for specific repo IDs\n",
    "repo_ids = [121300003, 88377551, 131508193, 132465788, 132464776]\n",
    "repos_data = {repo_id: reposWithCommits[repo_id] for repo_id in repo_ids if repo_id in reposWithCommits}\n",
    "\n",
    "# Structuring the data\n",
    "data_to_print = {\n",
    "    \"Total number of repos\": total_repos,\n",
    "    \"Total number of commits\": numCommits,\n",
    "    \"repos\": repos_data\n",
    "}\n",
    "\n",
    "# Pretty printing the data as JSON\n",
    "print(json.dumps(data_to_print, indent=4))"
   ]
  },
  {
   "cell_type": "markdown",
   "metadata": {},
   "source": [
    "6. Calculate time between each commit for every repo"
   ]
  },
  {
   "cell_type": "code",
   "execution_count": null,
   "metadata": {},
   "outputs": [],
   "source": [
    "def timeBetweenCommits( reposWithCommits ):\n",
    "\n",
    "    timeBetweenList =[]\n",
    "    currTimeBetweenList = []\n",
    "    currTimeList = []\n",
    "    avgTimeList = []\n",
    "    medianTimeList = []\n",
    "\n",
    "    # iterate through all commits lists in reposWithCommits\n",
    "    for currCommitList in reposWithCommits.values():\n",
    "        # ignore repos with only 1 or 0 commits\n",
    "        if len( currCommitList ) <= 1:\n",
    "            avgTimeList.append( timedelta() )\n",
    "            medianTimeList.append( timedelta() )\n",
    "            timeBetweenList.append( [] )\n",
    "            continue\n",
    "\n",
    "        # build list of commit timestamps for every repo\n",
    "        for commit in currCommitList:\n",
    "            currTimeList.append( commit[ \"commit_at\" ] )\n",
    "\n",
    "        # iterate through all commit timestamps for a repo\n",
    "        for i in range( len(currTimeList) ):\n",
    "            currTimeZone = currTimeList[i][-1]\n",
    "            currTimestamp = datetime.fromisoformat( currTimeList[i][:19] )\n",
    "\n",
    "            # convert all timestamps to UTC based on their time zone\n",
    "            if currTimeZone == 'Z':\n",
    "                 # Z represents no offset meaning commited in UTC time zone\n",
    "                 currTimestamp = currTimestamp.replace( tzinfo = timezone.utc )\n",
    "            else:\n",
    "                # get offset from the last 6 characters in the timestamp\n",
    "                currTimeZone = currTimeList[i][-6:]\n",
    "\n",
    "                # parse the offset\n",
    "                h, m = map( int, currTimeZone.split(\":\") )\n",
    "                if h < 0:\n",
    "                    m *= -1\n",
    "                currTimeZone = timedelta( hours = h, minutes = m )\n",
    "                currTimeZone = timezone( currTimeZone )\n",
    "                currTimestamp = currTimestamp.replace( tzinfo = currTimeZone ).astimezone( timezone.utc )\n",
    "\n",
    "            currTimeList[i] = currTimestamp\n",
    "\n",
    "        # sort commit timestamps in ascending order\n",
    "        currTimeList = sorted( currTimeList )\n",
    "\n",
    "        # calculate time between each commit\n",
    "        currAvgTime = timedelta()\n",
    "        for i in range( len(currTimeList) - 1 ):\n",
    "            currTimeBetweenList.append( currTimeList[i + 1] - currTimeList[i] )\n",
    "            currAvgTime = currAvgTime + ( currTimeList[i + 1] - currTimeList[i] )\n",
    "\n",
    "        # calculate average time and append to average time list\n",
    "        currAvgTime = currAvgTime / ( len( currCommitList ) - 1 )\n",
    "        medianTimeList.append( statistics.median(currTimeBetweenList) )\n",
    "        avgTimeList.append( currAvgTime )\n",
    "        timeBetweenList.append( currTimeBetweenList )\n",
    "        currTimeList = []\n",
    "        currTimeBetweenList = []\n",
    "\n",
    "    # represent reposWithCommits as Pandas DataFrame\n",
    "    data = { \"repo_id\": reposWithCommits.keys(),\n",
    "             \"avg_time_between_commits\": avgTimeList,\n",
    "             \"median_time_between_commits\": medianTimeList }\n",
    "    data = pd.DataFrame.from_dict( data )\n",
    "\n",
    "    return data"
   ]
  },
  {
   "cell_type": "markdown",
   "metadata": {},
   "source": [
    "7. Initialize Pandas DataFrame of time between commits for every repo"
   ]
  },
  {
   "cell_type": "code",
   "execution_count": null,
   "metadata": {},
   "outputs": [],
   "source": [
    "repoTimeBetweenCommits = timeBetweenCommits( reposWithCommits )"
   ]
  },
  {
   "cell_type": "markdown",
   "metadata": {},
   "source": [
    "8. Test for proper initialization of avgTimeBetweenCommits"
   ]
  },
  {
   "cell_type": "code",
   "execution_count": null,
   "metadata": {},
   "outputs": [],
   "source": [
    "# Output format of locally stored dataset\n",
    "#           repo_id avg_time_between_commits median_time_between_commits\n",
    "# 0        98311519   0 days 00:01:51.500000      0 days 00:01:51.500000\n",
    "# 1       134804722          0 days 00:00:00             0 days 00:00:00\n",
    "# 2       134804877          0 days 00:00:00             0 days 00:00:00\n",
    "# 3       134804933          0 days 00:00:00             0 days 00:00:00\n",
    "# 4        62891737          0 days 00:00:00             0 days 00:00:00\n",
    "# ...           ...                      ...                         ...\n",
    "# 447106   29204775   3 days 07:44:25.241379             0 days 00:25:41\n",
    "# 447107   60782700   0 days 00:23:15.555556             0 days 00:08:38\n",
    "# 447108   55134604   1 days 13:25:59.135135             0 days 00:16:37\n",
    "# 447109   96882560   9 days 07:47:14.730769             0 days 00:48:55\n",
    "# 447110   74912660   1 days 11:31:33.979592             0 days 00:35:57\n",
    "\n",
    "# [447111 rows x 2 columns]\n",
    "\n",
    "print( repoTimeBetweenCommits )\n",
    "print( \"Repos where the difference between avg and median is perfectly 0:\",\n",
    "        sum( i == timedelta(0) for i in repoTimeBetweenCommits[\"avg_time_between_commits\"] - repoTimeBetweenCommits[\"median_time_between_commits\"] ) )"
   ]
  },
  {
   "cell_type": "markdown",
   "metadata": {},
   "source": [
    "9. Plot difference between average and median of time between commits for every repo"
   ]
  },
  {
   "cell_type": "code",
   "execution_count": null,
   "metadata": {},
   "outputs": [],
   "source": [
    "def plotTimeBetweenCommits( repoTimeBetweenCommits ):\n",
    "\n",
    "    avgTimeList = repoTimeBetweenCommits[\"avg_time_between_commits\"]\n",
    "    medianTimeList = repoTimeBetweenCommits[\"median_time_between_commits\"]\n",
    "\n",
    "    ypoints = [ td.days for td in ( avgTimeList - medianTimeList ) if td.days != 0 ]\n",
    "    xpoints = [ i for i in range( len(ypoints) ) ]\n",
    "\n",
    "    print( \"Total number of repos:\", len(repoTimeBetweenCommits[\"repo_id\"]) )\n",
    "    print( \"Repos with greater than a 1 day difference between mean and median time between commits:\", len(ypoints) )\n",
    "    print( \"Repos whose median is greater than average suggesting a hiatus in development\",\n",
    "            len( [ td.days for td in ( avgTimeList - medianTimeList ) if td.days < 0 ] ) )\n",
    "\n",
    "    plt.title( \"Difference between mean and median time between commits\" )\n",
    "    plt.xlabel( \"Meaningless x points\" )\n",
    "    plt.ylabel( \"Average minus median time between commits (days)\" )\n",
    "\n",
    "    plt.plot(xpoints, ypoints)\n",
    "    plt.show()\n",
    "\n",
    "plotTimeBetweenCommits( repoTimeBetweenCommits )"
   ]
  }
 ],
 "metadata": {
  "kernelspec": {
   "display_name": "Python 3 (ipykernel)",
   "language": "python",
   "name": "python3"
  },
  "language_info": {
   "codemirror_mode": {
    "name": "ipython",
    "version": 3
   },
   "file_extension": ".py",
   "mimetype": "text/x-python",
   "name": "python",
   "nbconvert_exporter": "python",
   "pygments_lexer": "ipython3",
   "version": "3.12.2"
  }
 },
 "nbformat": 4,
 "nbformat_minor": 2
}
